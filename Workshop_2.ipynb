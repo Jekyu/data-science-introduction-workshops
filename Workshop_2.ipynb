{
 "cells": [
  {
   "cell_type": "markdown",
   "metadata": {},
   "source": [
    "# WorkShop 2\n",
    "\n",
    "Let's play with pandas and answer \"stakeholders\" _questions_.\n",
    "\n",
    "Problems $2-13$ rely on your `Problem 1` answer."
   ]
  },
  {
   "cell_type": "markdown",
   "metadata": {},
   "source": [
    "## Problem  1\n",
    "\n",
    "Load the energy data from the file `assets/Energy Indicators.xls`, which is a list of indicators of [energy supply and renewable electricity production](assets/Energy%20Indicators.xls) from the [United Nations](http://unstats.un.org/unsd/environment/excel_file_tables/2013/Energy%20Indicators.xls) for the year 2013, and should be put into a DataFrame with the variable name of __energy_df__.\n",
    "\n",
    "Keep in mind that this is an _Excel file_, and not a _comma separated values file_. Also, make sure to _exclude_ the footer and header information from the datafile. The first _two columns_ are unneccessary, so you should get rid of them, and you should change the column labels so that the columns are:\n",
    "\n",
    "```python\n",
    "['Country', 'Energy Supply', 'Energy Supply per Capita', '% Renewable]\n",
    "```\n",
    "\n",
    "Convert `Energy Supply` to _gigajoules_ (there are $1000000$ _gigajoules_ in a _petajoule_**). For all countries which have missing data (_e.g._ data with \"...\") make sure this is reflected as `np.NaN` values.\n",
    "\n",
    "Rename the following list of countries (_for use in later questions_):\n",
    "\n",
    "```bash\n",
    "\"Republic of Korea\": \"South Korea\",\n",
    "\"United States of America\": \"United States\",\n",
    "\"United Kingdom of Great Britain and Northern Ireland\": \"United Kingdom\",\n",
    "\"China, Hong Kong Special Administrative Region\": \"Hong Kong\"\n",
    "```\n",
    "\n",
    "There are also several countries with parenthesis in their name. Be sure to _remove these_, e.g. `'Bolivia (Plurinational State of)'` should be `'Bolivia'`. Additionally, there are several countries with _Numeric digits_ in their name. Make sure to remove these as well, e.g. `'Italy9'` should be `'Italy'`. \n",
    "\n",
    "Next, load the GDP data from the file `assets/world_bank.csv`, which is a _csv_ containing countries' GDP from $1960$ to $2015$ from [World Bank](http://data.worldbank.org/indicator/NY.GDP.MKTP.CD). Call this DataFrame __gdp_df__. \n",
    "\n",
    "Make sure to _skip the header_, and _rename_ the following list of countries:\n",
    "\n",
    "```bash\n",
    "\"Korea, Rep.\": \"South Korea\", \n",
    "\"Iran, Islamic Rep.\": \"Iran\",\n",
    "\"Hong Kong SAR, China\": \"Hong Kong\"\n",
    "```\n",
    "\n",
    "Finally, load the [Scimago Journal and Country Rank data for Energy Engineering and Power Technology](http://www.scimagojr.com/countryrank.php?category=2102) from the file `assets/scimagojr-3.xlsx`, which ranks countries based on their _journal contributions_ in the aforementioned area. Call this DataFrame __scimago_df__.\n",
    "\n",
    "Join the _thrgoee datasets_: _energy\\_df_, _gdp\\_df_ and _scimago\\_df_, into a new dataset (using the _intersection_ of _country names_). Use only the _last_ $10$ years ($2006-2015$) of __GDP data__ and only the _top 15 countries_ by __Scimagojr 'Rank'__ (_Rank 1 through 15_). \n",
    "\n",
    "The _index_ of this DataFrame should be the __name__ of the country, and the _columns_ should be:\n",
    "`['Rank', 'Documents', 'Citable documents', 'Citations', 'Self-citations', 'Citations per document', 'H index', 'Energy Supply', 'Energy Supply per Capita', '% Renewable', '2006', '2007', '2008','2009', '2010', '2011', '2012', '2013', '2014', '2015']`.\n",
    "\n",
    "_This function should return a DataFrame with 20 columns and 15 entries, and the rows of the DataFrame should be sorted by \"Rank\"._"
   ]
  },
  {
   "cell_type": "code",
   "execution_count": 126,
   "metadata": {},
   "outputs": [],
   "source": [
    "#!pip install xlrd\n",
    "#!pip install openpyxl\n",
    "import pandas as pd\n",
    "import numpy as np\n",
    "import re\n",
    "\n",
    "# ---- My created functions\n",
    "\n",
    "def clean_dataframe(df:pd.DataFrame, iloc:int ,start:int, stop:int, del_Col:list): \n",
    "    df.columns = [(dict(df.iloc[iloc])).get(i,i) for i in df.columns]\n",
    "    df = df.iloc[start:stop]\n",
    "    df = df.drop(columns=del_Col)\n",
    "    return df\n",
    "\n",
    "def transform_country(dictionary:dict, serie):\n",
    "    serie = [re.compile(r'\\(.*?\\)').sub('', word).strip() for word in serie]\n",
    "    serie = [re.compile(r'\\d{1,2}$').sub('', word) for word in serie]\n",
    "    serie = [dictionary.get(country, country) for country in serie]\n",
    "    serie = sorted(serie)\n",
    "    return serie\n",
    "\n",
    "# ---- Problem 1\n",
    "\n",
    "def generate_energy_df():\n",
    "    energy_df = pd.read_excel('./assets/Energy Indicators.xls')\n",
    "    dict1 = {\n",
    "        \"Republic of Korea\": \"South Korea\",\n",
    "        \"United States of America\": \"United States\",\n",
    "        \"United Kingdom of Great Britain and Northern Ireland\": \"United Kingdom\",\n",
    "        \"China, Hong Kong Special Administrative Region\": \"Hong Kong\"\n",
    "    }\n",
    "\n",
    "    energy_df = energy_df.drop(columns=['Unnamed: 0','Unnamed: 1'])\n",
    "    energy_df = clean_dataframe(energy_df,8, 17,244, [])\n",
    "    energy_df = energy_df.rename(columns={'Renewable Electricity Production':'% Renewable'})\n",
    "    energy_df['Energy Supply'] = energy_df['Energy Supply'].apply(lambda x: np.nan if x=='...' else x)*10**6\n",
    "    energy_df['Energy Supply per capita'] = energy_df['Energy Supply per capita'].apply(lambda x: np.nan if x=='...' else x)\n",
    "    energy_df['Country'] = transform_country(dict1, energy_df['Country'])\n",
    "    energy_df = energy_df.set_index('Country')\n",
    "    return energy_df\n",
    "\n",
    "def get_GDP_df():\n",
    "    \n",
    "    gdp_df = pd.read_csv('assets/world_bank.csv')\n",
    "    dict_gdp_df = {\"Korea, Rep.\": \"South Korea\", \"Iran, Islamic Rep.\": \"Iran\",\"Hong Kong SAR, China\": \"Hong Kong\"}\n",
    "    gdp_df = clean_dataframe(gdp_df,3, 5,269, ['Indicator Code','Indicator Name'])\n",
    "    gdp_df = gdp_df.rename(columns={'Country Name':'Country','Country Code':'Code'})    \n",
    "    gdp_df[\"Country\"] = transform_country(dict_gdp_df, gdp_df['Country'])\n",
    "    gdp_df = gdp_df.set_index('Country')\n",
    "    return gdp_df\n",
    "\n",
    "def get_scimago_df():\n",
    "    scimago_df = pd.read_excel('./assets/scimagojr-3.xlsx')\n",
    "    scimago_df = scimago_df.set_index('Country')\n",
    "    return scimago_df\n",
    "\n",
    "def answer_one():\n",
    "    df = ((get_scimago_df()[:15]).join(generate_energy_df(), how='inner')).join(get_GDP_df(), how='inner')\n",
    "    col_df = ['Rank', 'Documents', 'Citable documents', 'Citations', 'Self-citations', 'Citations per document', 'H index', 'Energy Supply', 'Energy Supply per capita', '% Renewable', 2006, 2007, 2008,2009, 2010, 2011, 2012, 2013, 2014, 2015]\n",
    "    return df[col_df]"
   ]
  },
  {
   "cell_type": "code",
   "execution_count": 127,
   "metadata": {},
   "outputs": [
    {
     "data": {
      "text/html": [
       "<div>\n",
       "<style scoped>\n",
       "    .dataframe tbody tr th:only-of-type {\n",
       "        vertical-align: middle;\n",
       "    }\n",
       "\n",
       "    .dataframe tbody tr th {\n",
       "        vertical-align: top;\n",
       "    }\n",
       "\n",
       "    .dataframe thead th {\n",
       "        text-align: right;\n",
       "    }\n",
       "</style>\n",
       "<table border=\"1\" class=\"dataframe\">\n",
       "  <thead>\n",
       "    <tr style=\"text-align: right;\">\n",
       "      <th></th>\n",
       "      <th>Rank</th>\n",
       "      <th>Documents</th>\n",
       "      <th>Citable documents</th>\n",
       "      <th>Citations</th>\n",
       "      <th>Self-citations</th>\n",
       "      <th>Citations per document</th>\n",
       "      <th>H index</th>\n",
       "      <th>Energy Supply</th>\n",
       "      <th>Energy Supply per capita</th>\n",
       "      <th>% Renewable</th>\n",
       "      <th>2006.0</th>\n",
       "      <th>2007.0</th>\n",
       "      <th>2008.0</th>\n",
       "      <th>2009.0</th>\n",
       "      <th>2010.0</th>\n",
       "      <th>2011.0</th>\n",
       "      <th>2012.0</th>\n",
       "      <th>2013.0</th>\n",
       "      <th>2014.0</th>\n",
       "      <th>2015.0</th>\n",
       "    </tr>\n",
       "    <tr>\n",
       "      <th>Country</th>\n",
       "      <th></th>\n",
       "      <th></th>\n",
       "      <th></th>\n",
       "      <th></th>\n",
       "      <th></th>\n",
       "      <th></th>\n",
       "      <th></th>\n",
       "      <th></th>\n",
       "      <th></th>\n",
       "      <th></th>\n",
       "      <th></th>\n",
       "      <th></th>\n",
       "      <th></th>\n",
       "      <th></th>\n",
       "      <th></th>\n",
       "      <th></th>\n",
       "      <th></th>\n",
       "      <th></th>\n",
       "      <th></th>\n",
       "      <th></th>\n",
       "    </tr>\n",
       "  </thead>\n",
       "  <tbody>\n",
       "    <tr>\n",
       "      <th>China</th>\n",
       "      <td>1</td>\n",
       "      <td>127050</td>\n",
       "      <td>126767</td>\n",
       "      <td>597237</td>\n",
       "      <td>411683</td>\n",
       "      <td>4.70</td>\n",
       "      <td>138</td>\n",
       "      <td>1.271910e+11</td>\n",
       "      <td>93.0</td>\n",
       "      <td>19.75491</td>\n",
       "      <td>1.352564e+09</td>\n",
       "      <td>1.557757e+09</td>\n",
       "      <td>1.661356e+09</td>\n",
       "      <td>1.640250e+09</td>\n",
       "      <td>1.664311e+09</td>\n",
       "      <td>1.730364e+09</td>\n",
       "      <td>1.749085e+09</td>\n",
       "      <td>1.767367e+09</td>\n",
       "      <td>1.816851e+09</td>\n",
       "      <td>1.862692e+09</td>\n",
       "    </tr>\n",
       "    <tr>\n",
       "      <th>United States</th>\n",
       "      <td>2</td>\n",
       "      <td>96661</td>\n",
       "      <td>94747</td>\n",
       "      <td>792274</td>\n",
       "      <td>265436</td>\n",
       "      <td>8.20</td>\n",
       "      <td>230</td>\n",
       "      <td>9.083800e+10</td>\n",
       "      <td>286.0</td>\n",
       "      <td>11.57098</td>\n",
       "      <td>3.606999e+11</td>\n",
       "      <td>3.922741e+11</td>\n",
       "      <td>4.129777e+11</td>\n",
       "      <td>3.997529e+11</td>\n",
       "      <td>3.938015e+11</td>\n",
       "      <td>4.102483e+11</td>\n",
       "      <td>4.333287e+11</td>\n",
       "      <td>4.391487e+11</td>\n",
       "      <td>4.220465e+11</td>\n",
       "      <td>3.979899e+11</td>\n",
       "    </tr>\n",
       "    <tr>\n",
       "      <th>Japan</th>\n",
       "      <td>3</td>\n",
       "      <td>30504</td>\n",
       "      <td>30287</td>\n",
       "      <td>223024</td>\n",
       "      <td>61554</td>\n",
       "      <td>7.31</td>\n",
       "      <td>134</td>\n",
       "      <td>1.898400e+10</td>\n",
       "      <td>149.0</td>\n",
       "      <td>10.23282</td>\n",
       "      <td>1.211971e+11</td>\n",
       "      <td>1.319836e+11</td>\n",
       "      <td>1.363391e+11</td>\n",
       "      <td>1.379752e+11</td>\n",
       "      <td>1.480473e+11</td>\n",
       "      <td>1.587068e+11</td>\n",
       "      <td>1.660073e+11</td>\n",
       "      <td>1.756357e+11</td>\n",
       "      <td>1.828368e+11</td>\n",
       "      <td>1.850308e+11</td>\n",
       "    </tr>\n",
       "    <tr>\n",
       "      <th>United Kingdom</th>\n",
       "      <td>4</td>\n",
       "      <td>20944</td>\n",
       "      <td>20357</td>\n",
       "      <td>206091</td>\n",
       "      <td>37874</td>\n",
       "      <td>9.84</td>\n",
       "      <td>139</td>\n",
       "      <td>7.920000e+09</td>\n",
       "      <td>124.0</td>\n",
       "      <td>10.60047</td>\n",
       "      <td>6.857344e+08</td>\n",
       "      <td>6.746459e+08</td>\n",
       "      <td>7.200629e+08</td>\n",
       "      <td>7.049483e+08</td>\n",
       "      <td>6.812260e+08</td>\n",
       "      <td>6.783400e+08</td>\n",
       "      <td>6.877044e+08</td>\n",
       "      <td>6.991892e+08</td>\n",
       "      <td>7.037801e+08</td>\n",
       "      <td>7.139983e+08</td>\n",
       "    </tr>\n",
       "    <tr>\n",
       "      <th>Russian Federation</th>\n",
       "      <td>5</td>\n",
       "      <td>18534</td>\n",
       "      <td>18301</td>\n",
       "      <td>34266</td>\n",
       "      <td>12422</td>\n",
       "      <td>1.85</td>\n",
       "      <td>57</td>\n",
       "      <td>5.900000e+07</td>\n",
       "      <td>70.0</td>\n",
       "      <td>28.29719</td>\n",
       "      <td>1.572241e+11</td>\n",
       "      <td>1.680156e+11</td>\n",
       "      <td>1.822280e+11</td>\n",
       "      <td>1.693503e+11</td>\n",
       "      <td>1.679981e+11</td>\n",
       "      <td>1.697726e+11</td>\n",
       "      <td>1.708608e+11</td>\n",
       "      <td>1.768949e+11</td>\n",
       "      <td>1.821293e+11</td>\n",
       "      <td>1.889349e+11</td>\n",
       "    </tr>\n",
       "    <tr>\n",
       "      <th>Canada</th>\n",
       "      <td>6</td>\n",
       "      <td>17899</td>\n",
       "      <td>17620</td>\n",
       "      <td>215003</td>\n",
       "      <td>40930</td>\n",
       "      <td>12.01</td>\n",
       "      <td>149</td>\n",
       "      <td>1.043100e+10</td>\n",
       "      <td>296.0</td>\n",
       "      <td>61.94543</td>\n",
       "      <td>NaN</td>\n",
       "      <td>NaN</td>\n",
       "      <td>NaN</td>\n",
       "      <td>NaN</td>\n",
       "      <td>NaN</td>\n",
       "      <td>NaN</td>\n",
       "      <td>NaN</td>\n",
       "      <td>NaN</td>\n",
       "      <td>NaN</td>\n",
       "      <td>NaN</td>\n",
       "    </tr>\n",
       "    <tr>\n",
       "      <th>Germany</th>\n",
       "      <td>7</td>\n",
       "      <td>17027</td>\n",
       "      <td>16831</td>\n",
       "      <td>140566</td>\n",
       "      <td>27426</td>\n",
       "      <td>8.26</td>\n",
       "      <td>126</td>\n",
       "      <td>1.630000e+08</td>\n",
       "      <td>40.0</td>\n",
       "      <td>82.22487</td>\n",
       "      <td>1.122006e+10</td>\n",
       "      <td>1.259477e+10</td>\n",
       "      <td>1.384270e+10</td>\n",
       "      <td>1.321497e+10</td>\n",
       "      <td>1.270950e+10</td>\n",
       "      <td>1.296059e+10</td>\n",
       "      <td>1.370547e+10</td>\n",
       "      <td>1.281359e+10</td>\n",
       "      <td>1.277716e+10</td>\n",
       "      <td>1.121913e+10</td>\n",
       "    </tr>\n",
       "    <tr>\n",
       "      <th>India</th>\n",
       "      <td>8</td>\n",
       "      <td>15005</td>\n",
       "      <td>14841</td>\n",
       "      <td>128763</td>\n",
       "      <td>37209</td>\n",
       "      <td>8.58</td>\n",
       "      <td>115</td>\n",
       "      <td>3.319500e+10</td>\n",
       "      <td>26.0</td>\n",
       "      <td>14.96908</td>\n",
       "      <td>2.249653e+11</td>\n",
       "      <td>2.374346e+11</td>\n",
       "      <td>2.323003e+11</td>\n",
       "      <td>2.192023e+11</td>\n",
       "      <td>2.200761e+11</td>\n",
       "      <td>2.257719e+11</td>\n",
       "      <td>2.261131e+11</td>\n",
       "      <td>2.293562e+11</td>\n",
       "      <td>2.412813e+11</td>\n",
       "      <td>2.601287e+11</td>\n",
       "    </tr>\n",
       "    <tr>\n",
       "      <th>France</th>\n",
       "      <td>9</td>\n",
       "      <td>13153</td>\n",
       "      <td>12973</td>\n",
       "      <td>130632</td>\n",
       "      <td>28601</td>\n",
       "      <td>9.93</td>\n",
       "      <td>114</td>\n",
       "      <td>1.374000e+09</td>\n",
       "      <td>252.0</td>\n",
       "      <td>19.53657</td>\n",
       "      <td>2.497135e+10</td>\n",
       "      <td>2.605681e+10</td>\n",
       "      <td>2.844096e+10</td>\n",
       "      <td>2.981914e+10</td>\n",
       "      <td>3.217477e+10</td>\n",
       "      <td>3.669404e+10</td>\n",
       "      <td>4.010384e+10</td>\n",
       "      <td>4.303644e+10</td>\n",
       "      <td>4.475182e+10</td>\n",
       "      <td>4.648940e+10</td>\n",
       "    </tr>\n",
       "    <tr>\n",
       "      <th>South Korea</th>\n",
       "      <td>10</td>\n",
       "      <td>11983</td>\n",
       "      <td>11923</td>\n",
       "      <td>114675</td>\n",
       "      <td>22595</td>\n",
       "      <td>9.57</td>\n",
       "      <td>104</td>\n",
       "      <td>6.341000e+09</td>\n",
       "      <td>119.0</td>\n",
       "      <td>1.687019</td>\n",
       "      <td>7.674943e+10</td>\n",
       "      <td>8.506480e+10</td>\n",
       "      <td>8.987328e+10</td>\n",
       "      <td>8.493801e+10</td>\n",
       "      <td>8.925444e+10</td>\n",
       "      <td>9.179099e+10</td>\n",
       "      <td>9.318927e+10</td>\n",
       "      <td>9.452000e+10</td>\n",
       "      <td>9.690371e+10</td>\n",
       "      <td>1.003874e+11</td>\n",
       "    </tr>\n",
       "    <tr>\n",
       "      <th>Italy</th>\n",
       "      <td>11</td>\n",
       "      <td>10964</td>\n",
       "      <td>10794</td>\n",
       "      <td>111850</td>\n",
       "      <td>26661</td>\n",
       "      <td>10.20</td>\n",
       "      <td>106</td>\n",
       "      <td>6.530000e+09</td>\n",
       "      <td>109.0</td>\n",
       "      <td>33.66723</td>\n",
       "      <td>2.110461e+10</td>\n",
       "      <td>2.283007e+10</td>\n",
       "      <td>2.448123e+10</td>\n",
       "      <td>2.582196e+10</td>\n",
       "      <td>2.642538e+10</td>\n",
       "      <td>2.710208e+10</td>\n",
       "      <td>2.782061e+10</td>\n",
       "      <td>2.860772e+10</td>\n",
       "      <td>2.949351e+10</td>\n",
       "      <td>3.019625e+10</td>\n",
       "    </tr>\n",
       "    <tr>\n",
       "      <th>Spain</th>\n",
       "      <td>12</td>\n",
       "      <td>9428</td>\n",
       "      <td>9330</td>\n",
       "      <td>123336</td>\n",
       "      <td>23964</td>\n",
       "      <td>13.08</td>\n",
       "      <td>115</td>\n",
       "      <td>4.923000e+09</td>\n",
       "      <td>106.0</td>\n",
       "      <td>37.96859</td>\n",
       "      <td>4.726099e+11</td>\n",
       "      <td>4.887020e+11</td>\n",
       "      <td>4.859797e+11</td>\n",
       "      <td>4.607834e+11</td>\n",
       "      <td>4.883793e+11</td>\n",
       "      <td>5.013917e+11</td>\n",
       "      <td>4.999562e+11</td>\n",
       "      <td>5.061616e+11</td>\n",
       "      <td>5.176362e+11</td>\n",
       "      <td>5.388264e+11</td>\n",
       "    </tr>\n",
       "    <tr>\n",
       "      <th>Iran</th>\n",
       "      <td>13</td>\n",
       "      <td>8896</td>\n",
       "      <td>8819</td>\n",
       "      <td>57470</td>\n",
       "      <td>19125</td>\n",
       "      <td>6.46</td>\n",
       "      <td>72</td>\n",
       "      <td>9.172000e+09</td>\n",
       "      <td>119.0</td>\n",
       "      <td>5.707721</td>\n",
       "      <td>1.147716e+11</td>\n",
       "      <td>1.163527e+11</td>\n",
       "      <td>1.259263e+11</td>\n",
       "      <td>1.301818e+11</td>\n",
       "      <td>1.385167e+11</td>\n",
       "      <td>1.489698e+11</td>\n",
       "      <td>1.697309e+11</td>\n",
       "      <td>1.808859e+11</td>\n",
       "      <td>1.770543e+11</td>\n",
       "      <td>1.807724e+11</td>\n",
       "    </tr>\n",
       "    <tr>\n",
       "      <th>Australia</th>\n",
       "      <td>14</td>\n",
       "      <td>8831</td>\n",
       "      <td>8725</td>\n",
       "      <td>90765</td>\n",
       "      <td>15606</td>\n",
       "      <td>10.28</td>\n",
       "      <td>107</td>\n",
       "      <td>5.386000e+09</td>\n",
       "      <td>231.0</td>\n",
       "      <td>11.81081</td>\n",
       "      <td>1.021939e+12</td>\n",
       "      <td>1.060340e+12</td>\n",
       "      <td>1.099644e+12</td>\n",
       "      <td>1.119654e+12</td>\n",
       "      <td>1.142251e+12</td>\n",
       "      <td>1.169431e+12</td>\n",
       "      <td>1.211913e+12</td>\n",
       "      <td>1.241484e+12</td>\n",
       "      <td>1.272520e+12</td>\n",
       "      <td>1.301251e+12</td>\n",
       "    </tr>\n",
       "    <tr>\n",
       "      <th>Brazil</th>\n",
       "      <td>15</td>\n",
       "      <td>8668</td>\n",
       "      <td>8596</td>\n",
       "      <td>60702</td>\n",
       "      <td>14396</td>\n",
       "      <td>7.00</td>\n",
       "      <td>86</td>\n",
       "      <td>1.214900e+10</td>\n",
       "      <td>59.0</td>\n",
       "      <td>69.64803</td>\n",
       "      <td>1.845080e+12</td>\n",
       "      <td>1.957118e+12</td>\n",
       "      <td>2.056809e+12</td>\n",
       "      <td>2.054215e+12</td>\n",
       "      <td>2.208872e+12</td>\n",
       "      <td>2.295245e+12</td>\n",
       "      <td>2.339209e+12</td>\n",
       "      <td>2.409740e+12</td>\n",
       "      <td>2.412231e+12</td>\n",
       "      <td>2.319423e+12</td>\n",
       "    </tr>\n",
       "  </tbody>\n",
       "</table>\n",
       "</div>"
      ],
      "text/plain": [
       "                    Rank  Documents  Citable documents  Citations  \\\n",
       "Country                                                             \n",
       "China                  1     127050             126767     597237   \n",
       "United States          2      96661              94747     792274   \n",
       "Japan                  3      30504              30287     223024   \n",
       "United Kingdom         4      20944              20357     206091   \n",
       "Russian Federation     5      18534              18301      34266   \n",
       "Canada                 6      17899              17620     215003   \n",
       "Germany                7      17027              16831     140566   \n",
       "India                  8      15005              14841     128763   \n",
       "France                 9      13153              12973     130632   \n",
       "South Korea           10      11983              11923     114675   \n",
       "Italy                 11      10964              10794     111850   \n",
       "Spain                 12       9428               9330     123336   \n",
       "Iran                  13       8896               8819      57470   \n",
       "Australia             14       8831               8725      90765   \n",
       "Brazil                15       8668               8596      60702   \n",
       "\n",
       "                    Self-citations  Citations per document  H index  \\\n",
       "Country                                                               \n",
       "China                       411683                    4.70      138   \n",
       "United States               265436                    8.20      230   \n",
       "Japan                        61554                    7.31      134   \n",
       "United Kingdom               37874                    9.84      139   \n",
       "Russian Federation           12422                    1.85       57   \n",
       "Canada                       40930                   12.01      149   \n",
       "Germany                      27426                    8.26      126   \n",
       "India                        37209                    8.58      115   \n",
       "France                       28601                    9.93      114   \n",
       "South Korea                  22595                    9.57      104   \n",
       "Italy                        26661                   10.20      106   \n",
       "Spain                        23964                   13.08      115   \n",
       "Iran                         19125                    6.46       72   \n",
       "Australia                    15606                   10.28      107   \n",
       "Brazil                       14396                    7.00       86   \n",
       "\n",
       "                    Energy Supply  Energy Supply per capita % Renewable  \\\n",
       "Country                                                                   \n",
       "China                1.271910e+11                      93.0    19.75491   \n",
       "United States        9.083800e+10                     286.0    11.57098   \n",
       "Japan                1.898400e+10                     149.0    10.23282   \n",
       "United Kingdom       7.920000e+09                     124.0    10.60047   \n",
       "Russian Federation   5.900000e+07                      70.0    28.29719   \n",
       "Canada               1.043100e+10                     296.0    61.94543   \n",
       "Germany              1.630000e+08                      40.0    82.22487   \n",
       "India                3.319500e+10                      26.0    14.96908   \n",
       "France               1.374000e+09                     252.0    19.53657   \n",
       "South Korea          6.341000e+09                     119.0    1.687019   \n",
       "Italy                6.530000e+09                     109.0    33.66723   \n",
       "Spain                4.923000e+09                     106.0    37.96859   \n",
       "Iran                 9.172000e+09                     119.0    5.707721   \n",
       "Australia            5.386000e+09                     231.0    11.81081   \n",
       "Brazil               1.214900e+10                      59.0    69.64803   \n",
       "\n",
       "                          2006.0        2007.0        2008.0        2009.0  \\\n",
       "Country                                                                      \n",
       "China               1.352564e+09  1.557757e+09  1.661356e+09  1.640250e+09   \n",
       "United States       3.606999e+11  3.922741e+11  4.129777e+11  3.997529e+11   \n",
       "Japan               1.211971e+11  1.319836e+11  1.363391e+11  1.379752e+11   \n",
       "United Kingdom      6.857344e+08  6.746459e+08  7.200629e+08  7.049483e+08   \n",
       "Russian Federation  1.572241e+11  1.680156e+11  1.822280e+11  1.693503e+11   \n",
       "Canada                       NaN           NaN           NaN           NaN   \n",
       "Germany             1.122006e+10  1.259477e+10  1.384270e+10  1.321497e+10   \n",
       "India               2.249653e+11  2.374346e+11  2.323003e+11  2.192023e+11   \n",
       "France              2.497135e+10  2.605681e+10  2.844096e+10  2.981914e+10   \n",
       "South Korea         7.674943e+10  8.506480e+10  8.987328e+10  8.493801e+10   \n",
       "Italy               2.110461e+10  2.283007e+10  2.448123e+10  2.582196e+10   \n",
       "Spain               4.726099e+11  4.887020e+11  4.859797e+11  4.607834e+11   \n",
       "Iran                1.147716e+11  1.163527e+11  1.259263e+11  1.301818e+11   \n",
       "Australia           1.021939e+12  1.060340e+12  1.099644e+12  1.119654e+12   \n",
       "Brazil              1.845080e+12  1.957118e+12  2.056809e+12  2.054215e+12   \n",
       "\n",
       "                          2010.0        2011.0        2012.0        2013.0  \\\n",
       "Country                                                                      \n",
       "China               1.664311e+09  1.730364e+09  1.749085e+09  1.767367e+09   \n",
       "United States       3.938015e+11  4.102483e+11  4.333287e+11  4.391487e+11   \n",
       "Japan               1.480473e+11  1.587068e+11  1.660073e+11  1.756357e+11   \n",
       "United Kingdom      6.812260e+08  6.783400e+08  6.877044e+08  6.991892e+08   \n",
       "Russian Federation  1.679981e+11  1.697726e+11  1.708608e+11  1.768949e+11   \n",
       "Canada                       NaN           NaN           NaN           NaN   \n",
       "Germany             1.270950e+10  1.296059e+10  1.370547e+10  1.281359e+10   \n",
       "India               2.200761e+11  2.257719e+11  2.261131e+11  2.293562e+11   \n",
       "France              3.217477e+10  3.669404e+10  4.010384e+10  4.303644e+10   \n",
       "South Korea         8.925444e+10  9.179099e+10  9.318927e+10  9.452000e+10   \n",
       "Italy               2.642538e+10  2.710208e+10  2.782061e+10  2.860772e+10   \n",
       "Spain               4.883793e+11  5.013917e+11  4.999562e+11  5.061616e+11   \n",
       "Iran                1.385167e+11  1.489698e+11  1.697309e+11  1.808859e+11   \n",
       "Australia           1.142251e+12  1.169431e+12  1.211913e+12  1.241484e+12   \n",
       "Brazil              2.208872e+12  2.295245e+12  2.339209e+12  2.409740e+12   \n",
       "\n",
       "                          2014.0        2015.0  \n",
       "Country                                         \n",
       "China               1.816851e+09  1.862692e+09  \n",
       "United States       4.220465e+11  3.979899e+11  \n",
       "Japan               1.828368e+11  1.850308e+11  \n",
       "United Kingdom      7.037801e+08  7.139983e+08  \n",
       "Russian Federation  1.821293e+11  1.889349e+11  \n",
       "Canada                       NaN           NaN  \n",
       "Germany             1.277716e+10  1.121913e+10  \n",
       "India               2.412813e+11  2.601287e+11  \n",
       "France              4.475182e+10  4.648940e+10  \n",
       "South Korea         9.690371e+10  1.003874e+11  \n",
       "Italy               2.949351e+10  3.019625e+10  \n",
       "Spain               5.176362e+11  5.388264e+11  \n",
       "Iran                1.770543e+11  1.807724e+11  \n",
       "Australia           1.272520e+12  1.301251e+12  \n",
       "Brazil              2.412231e+12  2.319423e+12  "
      ]
     },
     "execution_count": 127,
     "metadata": {},
     "output_type": "execute_result"
    }
   ],
   "source": [
    "# example of test cases\n",
    "assert type(answer_one()) == pd.DataFrame, \"Q1: You should return a DataFrame!\"\n",
    "assert answer_one().shape == (15,20), \"Q1: Your DataFrame should h.ave 20 columns and 15 entries!\"\n",
    "answer_one()"
   ]
  },
  {
   "cell_type": "code",
   "execution_count": 128,
   "metadata": {},
   "outputs": [],
   "source": [
    "# space for proffesor tests"
   ]
  },
  {
   "cell_type": "markdown",
   "metadata": {},
   "source": [
    "## Problem 2\n",
    "\n",
    "The _Problem 1_ joined three datasets then reduced this to just the top $15$ entries. When you joined the datasets, but before you reduced this to the top $15$ items, how many entries did you lose?\n",
    "\n",
    "_This function should return a single number._"
   ]
  },
  {
   "cell_type": "code",
   "execution_count": 129,
   "metadata": {},
   "outputs": [
    {
     "data": {
      "text/html": [
       "<svg width=\"800\" height=\"300\">\n",
       "  <circle cx=\"150\" cy=\"180\" r=\"80\" fill-opacity=\"0.2\" stroke=\"black\" stroke-width=\"2\" fill=\"blue\" />\n",
       "  <circle cx=\"200\" cy=\"100\" r=\"80\" fill-opacity=\"0.2\" stroke=\"black\" stroke-width=\"2\" fill=\"red\" />\n",
       "  <circle cx=\"100\" cy=\"100\" r=\"80\" fill-opacity=\"0.2\" stroke=\"black\" stroke-width=\"2\" fill=\"green\" />\n",
       "  <line x1=\"150\" y1=\"125\" x2=\"300\" y2=\"150\" stroke=\"black\" stroke-width=\"2\" fill=\"black\" stroke-dasharray=\"5,3\"/>\n",
       "  <text x=\"300\" y=\"165\" font-family=\"Verdana\" font-size=\"35\">Everything but this!</text>\n",
       "</svg>\n"
      ],
      "text/plain": [
       "<IPython.core.display.HTML object>"
      ]
     },
     "metadata": {},
     "output_type": "display_data"
    }
   ],
   "source": [
    "%%HTML\n",
    "<svg width=\"800\" height=\"300\">\n",
    "  <circle cx=\"150\" cy=\"180\" r=\"80\" fill-opacity=\"0.2\" stroke=\"black\" stroke-width=\"2\" fill=\"blue\" />\n",
    "  <circle cx=\"200\" cy=\"100\" r=\"80\" fill-opacity=\"0.2\" stroke=\"black\" stroke-width=\"2\" fill=\"red\" />\n",
    "  <circle cx=\"100\" cy=\"100\" r=\"80\" fill-opacity=\"0.2\" stroke=\"black\" stroke-width=\"2\" fill=\"green\" />\n",
    "  <line x1=\"150\" y1=\"125\" x2=\"300\" y2=\"150\" stroke=\"black\" stroke-width=\"2\" fill=\"black\" stroke-dasharray=\"5,3\"/>\n",
    "  <text x=\"300\" y=\"165\" font-family=\"Verdana\" font-size=\"35\">Everything but this!</text>\n",
    "</svg>"
   ]
  },
  {
   "cell_type": "code",
   "execution_count": 130,
   "metadata": {},
   "outputs": [],
   "source": [
    "def answer_two():\n",
    "   # Joined datasets\n",
    "    joinded = ((get_scimago_df()).join(generate_energy_df(), how='inner')).join(get_GDP_df(), how='inner')\n",
    "\n",
    "    num_joined = len(joinded.index.unique()) # Number of unique countries after merging\n",
    "\n",
    "    total_unique = len(set(generate_energy_df().index.unique()) | set(get_GDP_df().index.unique()) | set(get_scimago_df().index.unique()))\n",
    "    countries_lost = total_unique - num_joined\n",
    "    \n",
    "    return countries_lost\n",
    "    "
   ]
  },
  {
   "cell_type": "code",
   "execution_count": 131,
   "metadata": {},
   "outputs": [
    {
     "name": "stdout",
     "output_type": "stream",
     "text": [
      "147\n"
     ]
    }
   ],
   "source": [
    "# example of test cases\n",
    "assert type(answer_two()) == int, \"Q2: You should return an int number!\"\n",
    "print(answer_two())"
   ]
  },
  {
   "cell_type": "code",
   "execution_count": 132,
   "metadata": {},
   "outputs": [],
   "source": [
    "# space for proffesor tests"
   ]
  },
  {
   "cell_type": "markdown",
   "metadata": {},
   "source": [
    "## Problem 3\n",
    "\n",
    "What are the top $15$ countries for average GDP over the last $10$ years?\n",
    "\n",
    "_This function should return a Series named `avg_gdp` with $15$ countries and their average GDP sorted in descending order._"
   ]
  },
  {
   "cell_type": "code",
   "execution_count": 133,
   "metadata": {},
   "outputs": [],
   "source": [
    "def gdp_clean_last_10_years():\n",
    "    df = get_GDP_df()[list(i for i in range(2005,2016,1))].fillna(1) #Get last 10 years for each countr and fill the NaN with 1\n",
    "    return df\n",
    "\n",
    "def answer_three():\n",
    "    avg_gdp = gdp_clean_last_10_years()\n",
    "    avg_gdp['avg'] = [np.mean(list(avg_gdp.loc[country])) for country in avg_gdp.index] #Calculate the average in the last 10 years\n",
    "    avg_gdp = avg_gdp.sort_values(by='avg', ascending=False)\n",
    "    avg_gdp = avg_gdp.drop(index='Not classified')\n",
    "    return avg_gdp['avg'][:15]\n"
   ]
  },
  {
   "cell_type": "code",
   "execution_count": 134,
   "metadata": {},
   "outputs": [
    {
     "data": {
      "text/plain": [
       "Country\n",
       "Vietnam                       6.627827e+13\n",
       "Guatemala                     4.556594e+13\n",
       "Puerto Rico                   4.267742e+13\n",
       "Hong Kong                     2.145282e+13\n",
       "Lithuania                     2.026265e+13\n",
       "Mexico                        1.997118e+13\n",
       "Honduras                      1.986426e+13\n",
       "Ethiopia                      1.708566e+13\n",
       "Nauru                         1.693133e+13\n",
       "Early-demographic dividend    1.677988e+13\n",
       "Tuvalu                        1.534826e+13\n",
       "Ukraine                       1.527741e+13\n",
       "Low income                    1.350428e+13\n",
       "Egypt, Arab Rep.              1.269560e+13\n",
       "Dominican Republic            8.608860e+12\n",
       "Name: avg, dtype: float64"
      ]
     },
     "execution_count": 134,
     "metadata": {},
     "output_type": "execute_result"
    }
   ],
   "source": [
    "# example of test cases\n",
    "assert type(answer_three()) == pd.Series, \"Q3: You should return a Series!\"\n",
    "answer_three()"
   ]
  },
  {
   "cell_type": "code",
   "execution_count": 135,
   "metadata": {},
   "outputs": [],
   "source": [
    "# space for proffesor tests"
   ]
  },
  {
   "cell_type": "markdown",
   "metadata": {},
   "source": [
    "# Problem 4\n",
    "\n",
    "By how much had the GDP changed over the $10$ year span for the country with the $6-th$ largest average GDP?\n",
    "\n",
    "_This function should return a single number._"
   ]
  },
  {
   "cell_type": "code",
   "execution_count": 136,
   "metadata": {},
   "outputs": [],
   "source": [
    "def answer_four():\n",
    "    df = list(gdp_clean_last_10_years().loc[answer_three().index[5]])\n",
    "    return df[9] - df[0]"
   ]
  },
  {
   "cell_type": "code",
   "execution_count": 137,
   "metadata": {},
   "outputs": [
    {
     "name": "stdout",
     "output_type": "stream",
     "text": [
      "The Mexico's GPD has change: 9695844554047.5 in the last ten years\n"
     ]
    }
   ],
   "source": [
    "# example of test cases\n",
    "assert type(answer_four()) == float, \"Q4: You should return a single number!\"\n",
    "print(f\"The {answer_three().index[5]}'s GPD has change: {answer_four()} in the last ten years\")"
   ]
  },
  {
   "cell_type": "code",
   "execution_count": 138,
   "metadata": {},
   "outputs": [],
   "source": [
    "# space for proffesor tests\n"
   ]
  },
  {
   "cell_type": "markdown",
   "metadata": {},
   "source": [
    "## Problem 5\n",
    "\n",
    "What is the _mean energy supply per capita_?\n",
    "\n",
    "_This function should return a single number._"
   ]
  },
  {
   "cell_type": "code",
   "execution_count": 139,
   "metadata": {},
   "outputs": [],
   "source": [
    "def answer_five():\n",
    "    return float((generate_energy_df()['Energy Supply per capita']).mean())"
   ]
  },
  {
   "cell_type": "code",
   "execution_count": 140,
   "metadata": {},
   "outputs": [
    {
     "name": "stdout",
     "output_type": "stream",
     "text": [
      "The mean energy supply per capita is: 90.66666666666667\n"
     ]
    }
   ],
   "source": [
    "# example of test cases\n",
    "assert type(answer_five()) == float, \"Q5: You should return a single number!\"\n",
    "print(f'The mean energy supply per capita is: {answer_five()}')"
   ]
  },
  {
   "cell_type": "code",
   "execution_count": 141,
   "metadata": {},
   "outputs": [],
   "source": [
    "# space for proffesor tests"
   ]
  },
  {
   "cell_type": "markdown",
   "metadata": {},
   "source": [
    "## Problem 6\n",
    "\n",
    "What __country__ has the _maximum % Renewable_ and what is the _percentage_?\n",
    "\n",
    "_This function should return a tuple with the name of the country and the percentage._"
   ]
  },
  {
   "cell_type": "code",
   "execution_count": 142,
   "metadata": {},
   "outputs": [
    {
     "data": {
      "text/plain": [
       "('Bhutan', 100)"
      ]
     },
     "execution_count": 142,
     "metadata": {},
     "output_type": "execute_result"
    }
   ],
   "source": [
    "def answer_six():\n",
    "    df = generate_energy_df().sort_values(by='% Renewable', ascending=False)\n",
    "    return (df.index[0],df['% Renewable'].iloc[0])\n",
    "answer_six()"
   ]
  },
  {
   "cell_type": "code",
   "execution_count": 143,
   "metadata": {},
   "outputs": [
    {
     "name": "stdout",
     "output_type": "stream",
     "text": [
      "Bhutan is the country who has the maximum percentage renewable whit 100%\n"
     ]
    }
   ],
   "source": [
    "# example of test cases\n",
    "assert type(answer_six()) == tuple, \"Q6: You should return a tuple!\"\n",
    "assert type(answer_six()[0]) == str, \"Q6: The first element in your result should be the name of the country!\"\n",
    "print(f'{answer_six()[0]} is the country who has the maximum percentage renewable whit {answer_six()[1]}%')"
   ]
  },
  {
   "cell_type": "code",
   "execution_count": 144,
   "metadata": {},
   "outputs": [],
   "source": [
    "# space for proffesor tests"
   ]
  },
  {
   "cell_type": "markdown",
   "metadata": {},
   "source": [
    "## Problem 7\n",
    "\n",
    "Create a new column that is the _ratio of Self-Citations to Total Citations_. \n",
    "What is the _maximum_ value for this new column, and what _country_ has the _highest ratio_?\n",
    "\n",
    "_This function should return a tuple with the name of the country and the ratio._"
   ]
  },
  {
   "cell_type": "code",
   "execution_count": 145,
   "metadata": {},
   "outputs": [],
   "source": [
    "def answer_seven():\n",
    "    df = (answer_one())\n",
    "    df['Citations ratio'] = df['Self-citations']/df['Citations']\n",
    "    return (df['Citations ratio'].idxmax(),df['Citations ratio'].max())"
   ]
  },
  {
   "cell_type": "code",
   "execution_count": 146,
   "metadata": {},
   "outputs": [
    {
     "name": "stdout",
     "output_type": "stream",
     "text": [
      "China is the country who has the highest ratio whit 0.6893126179389422 of ratio\n"
     ]
    }
   ],
   "source": [
    "# example of test cases\n",
    "assert type(answer_seven()) == tuple, \"Q7: You should return a tuple!\"\n",
    "assert type(answer_seven()[0]) == str, \"Q7: The first element in your result should be the name of the country!\"\n",
    "print(f'{answer_seven()[0]} is the country who has the highest ratio whit {answer_seven()[1]} of ratio')"
   ]
  },
  {
   "cell_type": "code",
   "execution_count": 147,
   "metadata": {},
   "outputs": [],
   "source": [
    "# space for proffesor tests"
   ]
  },
  {
   "cell_type": "markdown",
   "metadata": {},
   "source": [
    "## Problem 8\n",
    "\n",
    "Create a column that estimates the _population using Energy Supply_ and _Energy Supply per capita_. \n",
    "What is the _third_ most populous country according to this estimate?\n",
    "\n",
    "_This function should return the name of the country._"
   ]
  },
  {
   "cell_type": "code",
   "execution_count": 148,
   "metadata": {},
   "outputs": [],
   "source": [
    "def get_population(df):\n",
    "    return df['Energy Supply']/df['Energy Supply per capita']\n",
    "\n",
    "def answer_eight():\n",
    "    df = answer_one()\n",
    "    df['Population'] = get_population(df)\n",
    "    return (df.sort_values(by='Population',ascending=False)).index[2]"
   ]
  },
  {
   "cell_type": "code",
   "execution_count": 149,
   "metadata": {},
   "outputs": [
    {
     "name": "stdout",
     "output_type": "stream",
     "text": [
      "United States is the country who has the third most populous using Energy Supply and Energy Supply\n"
     ]
    }
   ],
   "source": [
    "# example of test cases\n",
    "assert type(answer_eight()) == str, \"Q8: You should return the name of the country!\"\n",
    "print(f'{answer_eight()} is the country who has the third most populous using Energy Supply and Energy Supply')\n"
   ]
  },
  {
   "cell_type": "code",
   "execution_count": 150,
   "metadata": {},
   "outputs": [],
   "source": [
    "# space for proffesor tests"
   ]
  },
  {
   "cell_type": "markdown",
   "metadata": {},
   "source": [
    "## Problem 9\n",
    "\n",
    "Create a column that estimates the _number of citable documents per person_. \n",
    "\n",
    "What is the correlation between the _number of citable documents per capita_ and the _energy supply per capita_? Use the `.corr()` method, (Pearson's correlation).\n",
    "\n",
    "_This function should return a single number._"
   ]
  },
  {
   "cell_type": "code",
   "execution_count": 151,
   "metadata": {},
   "outputs": [],
   "source": [
    "def answer_nine():\n",
    "    df = answer_one()\n",
    "    df['Citable doc per person'] = df['Citable documents']/(get_population(df))\n",
    "    return df['Citable doc per person'].corr(df['Energy Supply per capita'])"
   ]
  },
  {
   "cell_type": "code",
   "execution_count": 152,
   "metadata": {},
   "outputs": [
    {
     "data": {
      "text/plain": [
       "-0.2211754960400686"
      ]
     },
     "execution_count": 152,
     "metadata": {},
     "output_type": "execute_result"
    }
   ],
   "source": [
    "# example of test cases\n",
    "assert answer_nine() >= -1. and answer_nine() <= 1., \"Q9: A valid correlation should between -1 to 1!\"\n",
    "answer_nine()"
   ]
  },
  {
   "cell_type": "code",
   "execution_count": 153,
   "metadata": {},
   "outputs": [],
   "source": [
    "# space for proffesor tests"
   ]
  },
  {
   "cell_type": "markdown",
   "metadata": {},
   "source": [
    "## Problem 10\n",
    "\n",
    "Create a new column with a $1$ if the _country's % Renewable_ value is at or above the median for all countries in the _top 15_, and a $0$ if the _country's % Renewable_ value is below the median.\n",
    "\n",
    "_This function should return a series named `high_renew` whose index is the country name sorted in ascending order of rank._"
   ]
  },
  {
   "cell_type": "code",
   "execution_count": 154,
   "metadata": {},
   "outputs": [],
   "source": [
    "def answer_ten():\n",
    "    df = answer_one()\n",
    "    df['high_renew'] = df['% Renewable'].apply(lambda country: 1 if country >= np.mean(df['% Renewable']) else 0)\n",
    "    return df['high_renew'].sort_values(ascending=True)"
   ]
  },
  {
   "cell_type": "code",
   "execution_count": 155,
   "metadata": {},
   "outputs": [
    {
     "name": "stdout",
     "output_type": "stream",
     "text": [
      "Country\n",
      "China                 0\n",
      "United States         0\n",
      "Japan                 0\n",
      "United Kingdom        0\n",
      "India                 0\n",
      "France                0\n",
      "South Korea           0\n",
      "Iran                  0\n",
      "Australia             0\n",
      "Russian Federation    1\n",
      "Canada                1\n",
      "Germany               1\n",
      "Italy                 1\n",
      "Spain                 1\n",
      "Brazil                1\n",
      "Name: high_renew, dtype: int64\n"
     ]
    }
   ],
   "source": [
    "# example of test cases\n",
    "assert type(answer_ten()) == pd.Series, \"Q10: You should return a Series!\"\n",
    "print(answer_ten())"
   ]
  },
  {
   "cell_type": "code",
   "execution_count": 156,
   "metadata": {},
   "outputs": [],
   "source": [
    "# space for proffesor tests"
   ]
  },
  {
   "cell_type": "markdown",
   "metadata": {},
   "source": [
    "## Problem 11\n",
    "\n",
    "Use the following dictionary to group the _Countries by Continent_, then create a DataFrame that displays the sample size (the number of countries in each continent bin), and the _sum_, _mean_, and _std deviation_ for the estimated population of each country.\n",
    "\n",
    "```python\n",
    "ContinentDict  = {\n",
    "    'China':'Asia', \n",
    "    'United States':'North America', \n",
    "    'Japan':'Asia', \n",
    "    'United Kingdom':'Europe', \n",
    "    'Russian Federation':'Europe', \n",
    "    'Canada':'North America', \n",
    "    'Germany':'Europe', \n",
    "    'India':'Asia',\n",
    "    'France':'Europe', \n",
    "    'South Korea':'Asia', \n",
    "    'Italy':'Europe', \n",
    "    'Spain':'Europe', \n",
    "    'Iran':'Asia',\n",
    "    'Australia':'Australia', \n",
    "    'Brazil':'South America'\n",
    "}\n",
    "```\n",
    "\n",
    "_This function should return a DataFrame with index named Continent `['Asia', 'Australia', 'Europe', 'North America', 'South America']` and columns `['size', 'sum', 'mean', 'std']`_"
   ]
  },
  {
   "cell_type": "code",
   "execution_count": 157,
   "metadata": {},
   "outputs": [],
   "source": [
    "def continent_col_creator(col):\n",
    "    ContinentDict  = {\n",
    "        'China':'Asia', \n",
    "        'United States':'North America', \n",
    "        'Japan':'Asia', \n",
    "        'United Kingdom':'Europe', \n",
    "        'Russian Federation':'Europe', \n",
    "        'Canada':'North America', \n",
    "        'Germany':'Europe', \n",
    "        'India':'Asia',\n",
    "        'France':'Europe', \n",
    "        'South Korea':'Asia', \n",
    "        'Italy':'Europe', \n",
    "        'Spain':'Europe', \n",
    "        'Iran':'Asia',\n",
    "        'Australia':'Australia', \n",
    "        'Brazil':'South America'\n",
    "    }\n",
    "    return [ContinentDict.get(country, country) for country in col]\n",
    "\n",
    "def answer_eleven():\n",
    "   \n",
    "    df = answer_one()\n",
    "\n",
    "    df['Continent'] = continent_col_creator(df.index)\n",
    "    df['Population'] = get_population(df)\n",
    "\n",
    "    return df.groupby('Continent')['Population'].agg(['size', 'sum', 'mean', 'std'])"
   ]
  },
  {
   "cell_type": "code",
   "execution_count": 158,
   "metadata": {},
   "outputs": [
    {
     "data": {
      "text/html": [
       "<div>\n",
       "<style scoped>\n",
       "    .dataframe tbody tr th:only-of-type {\n",
       "        vertical-align: middle;\n",
       "    }\n",
       "\n",
       "    .dataframe tbody tr th {\n",
       "        vertical-align: top;\n",
       "    }\n",
       "\n",
       "    .dataframe thead th {\n",
       "        text-align: right;\n",
       "    }\n",
       "</style>\n",
       "<table border=\"1\" class=\"dataframe\">\n",
       "  <thead>\n",
       "    <tr style=\"text-align: right;\">\n",
       "      <th></th>\n",
       "      <th>size</th>\n",
       "      <th>sum</th>\n",
       "      <th>mean</th>\n",
       "      <th>std</th>\n",
       "    </tr>\n",
       "    <tr>\n",
       "      <th>Continent</th>\n",
       "      <th></th>\n",
       "      <th></th>\n",
       "      <th></th>\n",
       "      <th></th>\n",
       "    </tr>\n",
       "  </thead>\n",
       "  <tbody>\n",
       "    <tr>\n",
       "      <th>Asia</th>\n",
       "      <td>5</td>\n",
       "      <td>2.902147e+09</td>\n",
       "      <td>5.804293e+08</td>\n",
       "      <td>6.784204e+08</td>\n",
       "    </tr>\n",
       "    <tr>\n",
       "      <th>Australia</th>\n",
       "      <td>1</td>\n",
       "      <td>2.331602e+07</td>\n",
       "      <td>2.331602e+07</td>\n",
       "      <td>NaN</td>\n",
       "    </tr>\n",
       "    <tr>\n",
       "      <th>Europe</th>\n",
       "      <td>6</td>\n",
       "      <td>1.805929e+08</td>\n",
       "      <td>3.009881e+07</td>\n",
       "      <td>2.978893e+07</td>\n",
       "    </tr>\n",
       "    <tr>\n",
       "      <th>North America</th>\n",
       "      <td>2</td>\n",
       "      <td>3.528552e+08</td>\n",
       "      <td>1.764276e+08</td>\n",
       "      <td>1.996696e+08</td>\n",
       "    </tr>\n",
       "    <tr>\n",
       "      <th>South America</th>\n",
       "      <td>1</td>\n",
       "      <td>2.059153e+08</td>\n",
       "      <td>2.059153e+08</td>\n",
       "      <td>NaN</td>\n",
       "    </tr>\n",
       "  </tbody>\n",
       "</table>\n",
       "</div>"
      ],
      "text/plain": [
       "               size           sum          mean           std\n",
       "Continent                                                    \n",
       "Asia              5  2.902147e+09  5.804293e+08  6.784204e+08\n",
       "Australia         1  2.331602e+07  2.331602e+07           NaN\n",
       "Europe            6  1.805929e+08  3.009881e+07  2.978893e+07\n",
       "North America     2  3.528552e+08  1.764276e+08  1.996696e+08\n",
       "South America     1  2.059153e+08  2.059153e+08           NaN"
      ]
     },
     "execution_count": 158,
     "metadata": {},
     "output_type": "execute_result"
    }
   ],
   "source": [
    "# example of test cases\n",
    "assert type(answer_eleven()) == pd.DataFrame, \"Q11: You should return a DataFrame!\"\n",
    "assert answer_eleven().shape[0] == 5, \"Q11: Wrong row numbers!\"\n",
    "assert answer_eleven().shape[1] == 4, \"Q11: Wrong column numbers!\"\n",
    "answer_eleven()"
   ]
  },
  {
   "cell_type": "code",
   "execution_count": 159,
   "metadata": {},
   "outputs": [],
   "source": [
    "# space for proffesor tests"
   ]
  },
  {
   "cell_type": "markdown",
   "metadata": {},
   "source": [
    "## Problem 12\n",
    "\n",
    "Cut (check `.cut()` from Pandas) _% Renewable_ into $5$ bins, but in the same column. Group _Top15_ by the _Continent_, as well as these new _% Renewable_ bins. How many countries are in each of these groups? You could check `.size()` as aggregation in group by.\n",
    "\n",
    "_This function should return a Series with a MultiIndex of `Continent`, then the bins for `% Renewable` (in string datatype). Do not include groups with no countries._"
   ]
  },
  {
   "cell_type": "code",
   "execution_count": 160,
   "metadata": {},
   "outputs": [],
   "source": [
    "def answer_twelve():\n",
    "    df = answer_one()\n",
    "    df['% Renewable'] = pd.cut(df['% Renewable'], bins=5)\n",
    "    df['Continent'] = continent_col_creator(df.index)\n",
    "    return df.groupby(['Continent','% Renewable'], observed=False).agg('size')"
   ]
  },
  {
   "cell_type": "code",
   "execution_count": 161,
   "metadata": {},
   "outputs": [
    {
     "data": {
      "text/plain": [
       "Continent      % Renewable     \n",
       "Asia           (1.606, 17.795]     4\n",
       "               (17.795, 33.902]    1\n",
       "               (33.902, 50.01]     0\n",
       "               (50.01, 66.117]     0\n",
       "               (66.117, 82.225]    0\n",
       "Australia      (1.606, 17.795]     1\n",
       "               (17.795, 33.902]    0\n",
       "               (33.902, 50.01]     0\n",
       "               (50.01, 66.117]     0\n",
       "               (66.117, 82.225]    0\n",
       "Europe         (1.606, 17.795]     1\n",
       "               (17.795, 33.902]    3\n",
       "               (33.902, 50.01]     1\n",
       "               (50.01, 66.117]     0\n",
       "               (66.117, 82.225]    1\n",
       "North America  (1.606, 17.795]     1\n",
       "               (17.795, 33.902]    0\n",
       "               (33.902, 50.01]     0\n",
       "               (50.01, 66.117]     1\n",
       "               (66.117, 82.225]    0\n",
       "South America  (1.606, 17.795]     0\n",
       "               (17.795, 33.902]    0\n",
       "               (33.902, 50.01]     0\n",
       "               (50.01, 66.117]     0\n",
       "               (66.117, 82.225]    1\n",
       "dtype: int64"
      ]
     },
     "execution_count": 161,
     "metadata": {},
     "output_type": "execute_result"
    }
   ],
   "source": [
    "# example of test cases\n",
    "assert type(answer_twelve()) == pd.Series, \"Q12: You should return a Series!\"\n",
    "assert len(answer_twelve()) == 25, \"Q12: Wrong result numbers!\"\n",
    "answer_twelve()"
   ]
  },
  {
   "cell_type": "code",
   "execution_count": 162,
   "metadata": {},
   "outputs": [],
   "source": [
    "# space for proffesor tests"
   ]
  },
  {
   "cell_type": "markdown",
   "metadata": {},
   "source": [
    "## Problem 13\n",
    "\n",
    "Convert the _Population Estimate_ series to a string with thousands separator (using _dots_). Use all significant digits (do not round the results).\n",
    "\n",
    "e.g. 12345678.90 -> 12.345.678,90\n",
    "\n",
    "_This function should return a series `pop_est` whose index is the country name and whose values are the population estimate string_"
   ]
  },
  {
   "cell_type": "code",
   "execution_count": 163,
   "metadata": {},
   "outputs": [],
   "source": [
    "def answer_thirteen():\n",
    "    pop_est = pd.Series([(f'{number:,.10f}') for number in get_population(answer_one())])\n",
    "    pop_est = pop_est.apply(lambda number: (number.replace(',', ';').replace('.', ',').replace(';', '.')))\n",
    "    return (pop_est)\n"
   ]
  },
  {
   "cell_type": "code",
   "execution_count": 164,
   "metadata": {},
   "outputs": [
    {
     "data": {
      "text/plain": [
       "0     1.367.645.161,2903225422\n",
       "1       317.615.384,6153846383\n",
       "2       127.409.395,9731543660\n",
       "3        63.870.967,7419354841\n",
       "4           842.857,1428571428\n",
       "5        35.239.864,8648648635\n",
       "6         4.075.000,0000000000\n",
       "7     1.276.730.769,2307691574\n",
       "8         5.452.380,9523809524\n",
       "9        53.285.714,2857142836\n",
       "10       59.908.256,8807339445\n",
       "11       46.443.396,2264150977\n",
       "12       77.075.630,2521008402\n",
       "13       23.316.017,3160173148\n",
       "14      205.915.254,2372881472\n",
       "dtype: object"
      ]
     },
     "execution_count": 164,
     "metadata": {},
     "output_type": "execute_result"
    }
   ],
   "source": [
    "# example of test cases\n",
    "assert type(answer_thirteen()) == pd.Series, \"Q13: You should return a Series!\"\n",
    "assert len(answer_thirteen()) == 15, \"Q13: Wrong result numbers!\"\n",
    "(answer_thirteen())"
   ]
  },
  {
   "cell_type": "code",
   "execution_count": 165,
   "metadata": {},
   "outputs": [],
   "source": [
    "# space for proffesor tests"
   ]
  }
 ],
 "metadata": {
  "kernelspec": {
   "display_name": "data_science_course",
   "language": "python",
   "name": "python3"
  },
  "language_info": {
   "codemirror_mode": {
    "name": "ipython",
    "version": 3
   },
   "file_extension": ".py",
   "mimetype": "text/x-python",
   "name": "python",
   "nbconvert_exporter": "python",
   "pygments_lexer": "ipython3",
   "version": "3.11.9"
  }
 },
 "nbformat": 4,
 "nbformat_minor": 2
}
